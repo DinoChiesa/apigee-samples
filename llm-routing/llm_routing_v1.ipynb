{
 "cells": [
  {
   "cell_type": "markdown",
   "metadata": {
    "id": "80JsJB4V93dw"
   },
   "source": [
    "# **LLM Routing wtih Apigee**\n",
    "\n",
    "<table align=\"left\">\n",
    "    <td style=\"text-align: center\">\n",
    "        <a href=\"https://colab.research.google.com/github/ssvaidyanathan/apigee-samples/blob/main/llm-routing/llm_routing_v1.ipynb\">\n",
    "          <img src=\"images/colab-logo-32px.png\" alt=\"Google Colaboratory logo\\\"><br> Open in Colab\n",
    "        </a>\n",
    "      </td>\n",
    "      <td style=\"text-align: center\">\n",
    "        <a href=\"https://console.cloud.google.com/vertex-ai/colab/import/https%3A%2F%2Fraw.githubusercontent.com%2Fssvaidyanathan%2Fapigee-samples%2Fmain%2Fllm-routing%2Fllm_routing_v1.ipynb\">\n",
    "          <img width=\"32px\" src=\"images/colab-ent.png\" alt=\"Google Cloud Colab Enterprise logo\"><br> Open in Colab Enterprise\n",
    "        </a>\n",
    "      </td>    \n",
    "      <td style=\"text-align: center\">\n",
    "        <a href=\"https://console.cloud.google.com/vertex-ai/workbench/deploy-notebook?download_url=https://raw.githubusercontent.com/ssvaidyanathan/apigee-samples/main/llm-routing/llm_routing_v1.ipynb\">\n",
    "          <img src=\"https://lh3.googleusercontent.com/UiNooY4LUgW_oTvpsNhPpQzsstV5W8F7rYgxgGBD85cWJoLmrOzhVs_ksK_vgx40SHs7jCqkTkCk=e14-rj-sc0xffffff-h130-w32\" alt=\"Vertex AI logo\"><br> Open in Workbench\n",
    "        </a>\n",
    "      </td>\n",
    "      <td style=\"text-align: center\">\n",
    "        <a href=\"https://github.com/ssvaidyanathan/apigee-samples/blob/main/llm-routing/llm_routing_v1.ipynb\">\n",
    "          <img src=\"images/github-logo-32px.png\" alt=\"GitHub logo\"><br> View on GitHub\n",
    "        </a>\n",
    "      </td>\n",
    "</table>\n",
    "<br />\n",
    "<br />\n",
    "<br />\n",
    "\n",
    "# Routing Sample\n",
    "\n",
    "- This is a sample Apigee proxy to demonstrate the routing capabilities of Apigee across different LLM providers. In this sample we will use Google VertexAI and Anthropic as the LLM providers\n",
    "- The framework will easily help onboarding other providers using configurations\n",
    "\n",
    "![architecture](./images/arch.jpg)\n",
    "\n",
    "# Benefits of Routing with Apigee:\n",
    "\n",
    "* **Configuration Driven Routing**: All the routing logic are driven through configuration which makes onboarding very easy\n",
    "* **Security**: Irrespective of the model and providers, Apigee will secure the endpoints and\n",
    "* **Consistency**: Apigee can offer that layer of consistency to work with any LLM SDKs that are being used\n",
    "\n",
    "## Setup\n",
    "\n",
    "Use the following GCP CloudShell tutorial. Follow the instructions to deploy the sample.\n",
    "\n",
    "[![Open in Cloud Shell](https://gstatic.com/cloudssh/images/open-btn.png)](https://ssh.cloud.google.com/cloudshell/open?cloudshell_git_repo=https://github.com/ssvaidyanathan/apigee-samples&cloudshell_git_branch=main&cloudshell_workspace=.&cloudshell_tutorial=llm-routing/docs/cloudshell-tutorial.md)\n",
    "\n",
    "## Test Sample"
   ]
  },
  {
   "cell_type": "markdown",
   "metadata": {
    "id": "KyPnkqS9Hm5I"
   },
   "source": [
    "### Authenticate your notebook environment (Colab only)\n",
    "If you are running this notebook on Google Colab, run the following cell to authenticate your environment. This step is not required if you are using Vertex AI Workbench."
   ]
  },
  {
   "cell_type": "code",
   "execution_count": null,
   "metadata": {
    "id": "q_-3uHjVHmA2"
   },
   "outputs": [],
   "source": [
    "import sys\n",
    "\n",
    "# Additional authentication is required for Google Colab\n",
    "if \"google.colab\" in sys.modules:\n",
    "    # Authenticate user to Google Cloud\n",
    "    from google.colab import auth\n",
    "\n",
    "    auth.authenticate_user()"
   ]
  },
  {
   "cell_type": "markdown",
   "metadata": {
    "id": "F3lXx_OayNaz"
   },
   "source": [
    "### Select a Provider"
   ]
  },
  {
   "cell_type": "code",
   "execution_count": null,
   "metadata": {
    "id": "Rj5cAPSLyeBo"
   },
   "outputs": [],
   "source": [
    "PROVIDER = \"anthropic\"  # @param [\"google\", \"anthropic\" ]\n",
    "if PROVIDER == \"google\":\n",
    "    available_models = [\"gemini-1.5-flash-001\"]\n",
    "    payload = {\n",
    "      \"contents\":{\n",
    "         \"role\":\"user\",\n",
    "         \"parts\":[\n",
    "            {\n",
    "               \"text\":\"Suggest name for a flower shop\"\n",
    "            }\n",
    "         ]\n",
    "      }\n",
    "}\n",
    "elif PROVIDER == \"anthropic\":\n",
    "    available_models = [\"claude-3-5-sonnet-v2@20241022\"]\n",
    "    payload = {\n",
    "    \"anthropic_version\": \"vertex-2023-10-16\",\n",
    "    \"messages\": [\n",
    "        {\n",
    "            \"role\": \"user\",\n",
    "            \"content\": [\n",
    "                {\n",
    "                    \"type\": \"text\",\n",
    "                    \"text\": \"Suggest name for a flower shop\"\n",
    "                }\n",
    "            ]\n",
    "        }\n",
    "    ],\n",
    "    \"max_tokens\": 256,\n",
    "    \"stream\": False\n",
    "}"
   ]
  },
  {
   "cell_type": "markdown",
   "metadata": {
    "id": "6Qvn-i6Fz5hH"
   },
   "source": [
    "### Select a Model"
   ]
  },
  {
   "cell_type": "code",
   "execution_count": null,
   "metadata": {
    "id": "ooO8iFMAz9p6"
   },
   "outputs": [],
   "source": [
    "import json\n",
    "import ipywidgets as widgets\n",
    "from IPython.display import display\n",
    "\n",
    "modelDropdown = widgets.Dropdown(\n",
    "    options=available_models,\n",
    "    description=\"Model:\",\n",
    "    font_weight=\"bold\"\n",
    ")\n",
    "\n",
    "payloadTextarea = widgets.Textarea(\n",
    "    description=\"Payload:\",\n",
    "    font_weight=\"bold\",\n",
    "    width=\"100%\",\n",
    "    value=json.dumps(payload, indent=2)\n",
    ")\n",
    "\n",
    "\n",
    "def dropdown_eventhandler(change):\n",
    "    global VALUE\n",
    "    if change[\"type\"] == \"change\" and change[\"name\"] == \"value\":\n",
    "        VALUE = change.new\n",
    "        print(\"Selected:\", change.new)\n",
    "\n",
    "\n",
    "MODEL = modelDropdown.value\n",
    "modelDropdown.observe(dropdown_eventhandler, names=\"value\")\n",
    "display(modelDropdown)\n",
    "\n",
    "PAYLOAD = payloadTextarea.value\n",
    "display(payloadTextarea)"
   ]
  },
  {
   "cell_type": "markdown",
   "metadata": {
    "id": "oeZIwvv-3NiM"
   },
   "source": [
    "#### Set Google Cloud project\n",
    "\n",
    "To get started, you must have an existing Google Cloud project and [enable the Vertex AI API](https://console.cloud.google.com/flows/enableapi?apiid=aiplatform.googleapis.com). Learn more about [setting up a project and a development environment](https://cloud.google.com/vertex-ai/docs/start/cloud-environment)."
   ]
  },
  {
   "cell_type": "code",
   "execution_count": null,
   "metadata": {
    "id": "eAu0gkLn3bZm"
   },
   "outputs": [],
   "source": [
    "PROJECT_ID = \"[your-project-id]\"  # @param {type:\"string\"}\n",
    "APIGEE_HOST=\"[your-apigee-host-domain]\" # @param {type:\"string\"}\n",
    "APIKEY=\"[your-apikey]\" # @param {type:\"string\"}\n",
    "\n",
    "if not PROJECT_ID or PROJECT_ID == \"[your-project-id]\":\n",
    "    raise ValueError(\"Please set your PROJECT_ID\")\n",
    "if not APIGEE_HOST or APIGEE_HOST == \"[your-apigee-host-domain]\":\n",
    "    raise ValueError(\"Please set your APIGEE_HOST\")\n",
    "if not APIKEY or APIKEY == \"[your-apikey]\":\n",
    "    raise ValueError(\"Please set your APIKEY\")"
   ]
  },
  {
   "cell_type": "markdown",
   "metadata": {
    "id": "3wFfgpMC3lbO"
   },
   "source": [
    "#### Import required libraries"
   ]
  },
  {
   "cell_type": "code",
   "execution_count": null,
   "metadata": {
    "id": "lEoKmz003nJv"
   },
   "outputs": [],
   "source": [
    "import base64\n",
    "import json\n",
    "\n",
    "import httpx\n",
    "import requests\n",
    "from IPython.display import Image"
   ]
  },
  {
   "cell_type": "markdown",
   "metadata": {
    "id": "dDZm8PTi37p8"
   },
   "source": [
    "### Text generation"
   ]
  },
  {
   "cell_type": "markdown",
   "metadata": {
    "id": "FhW5KnPb3y3j"
   },
   "source": [
    "#### Unary call\n",
    "\n",
    "Sends a POST request to the specified API endpoint to get a response from the model using the provided payload."
   ]
  },
  {
   "cell_type": "code",
   "execution_count": null,
   "metadata": {
    "id": "GxIQN2MF4Im-"
   },
   "outputs": [],
   "source": [
    "!curl -X POST -H \"x-apikey: {APIKEY}\" -H \"Content-Type: application/json\" https://{APIGEE_HOST}/v1/samples/llm-routing/providers/{PROVIDER}/models/{MODEL}:generateText -d '{PAYLOAD}'"
   ]
  },
  {
   "cell_type": "markdown",
   "metadata": {},
   "source": [
    "To test different providers, just select another provider from the dropdown in the \"Select a Provider\" section above and execute each step to see different responses"
   ]
  }
 ],
 "metadata": {
  "colab": {
   "provenance": [],
   "toc_visible": true
  },
  "kernelspec": {
   "display_name": "Python 3",
   "name": "python3"
  },
  "language_info": {
   "codemirror_mode": {
    "name": "ipython",
    "version": 3
   },
   "file_extension": ".py",
   "mimetype": "text/x-python",
   "name": "python",
   "nbconvert_exporter": "python",
   "pygments_lexer": "ipython3",
   "version": "3.11.4"
  }
 },
 "nbformat": 4,
 "nbformat_minor": 0
}
